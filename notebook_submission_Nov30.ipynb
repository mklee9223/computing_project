{
 "cells": [
  {
   "cell_type": "code",
   "execution_count": 1,
   "id": "56a809ca",
   "metadata": {
    "execution": {
     "iopub.execute_input": "2024-12-01T03:40:56.200437Z",
     "iopub.status.busy": "2024-12-01T03:40:56.200048Z",
     "iopub.status.idle": "2024-12-01T03:41:39.597866Z",
     "shell.execute_reply": "2024-12-01T03:41:39.596437Z"
    },
    "papermill": {
     "duration": 43.408788,
     "end_time": "2024-12-01T03:41:39.601364",
     "exception": false,
     "start_time": "2024-12-01T03:40:56.192576",
     "status": "completed"
    },
    "tags": []
   },
   "outputs": [
    {
     "name": "stdout",
     "output_type": "stream",
     "text": [
      "Requirement already satisfied: xgboost in /opt/conda/lib/python3.10/site-packages (2.0.3)\r\n",
      "Requirement already satisfied: numpy in /opt/conda/lib/python3.10/site-packages (from xgboost) (1.26.4)\r\n",
      "Requirement already satisfied: scipy in /opt/conda/lib/python3.10/site-packages (from xgboost) (1.14.1)\r\n"
     ]
    }
   ],
   "source": [
    "!pip install xgboost"
   ]
  },
  {
   "cell_type": "code",
   "execution_count": 2,
   "id": "ae740394",
   "metadata": {
    "execution": {
     "iopub.execute_input": "2024-12-01T03:41:39.614109Z",
     "iopub.status.busy": "2024-12-01T03:41:39.612990Z",
     "iopub.status.idle": "2024-12-01T03:41:44.864385Z",
     "shell.execute_reply": "2024-12-01T03:41:44.863443Z"
    },
    "papermill": {
     "duration": 5.260341,
     "end_time": "2024-12-01T03:41:44.866898",
     "exception": false,
     "start_time": "2024-12-01T03:41:39.606557",
     "status": "completed"
    },
    "tags": []
   },
   "outputs": [],
   "source": [
    "import numpy as np\n",
    "import polars as pl\n",
    "import pandas as pd\n",
    "from sklearn.base import clone\n",
    "from copy import deepcopy\n",
    "import optuna\n",
    "from scipy.optimize import minimize\n",
    "import matplotlib.pyplot as plt\n",
    "import missingno as msno\n",
    "import re\n",
    "from colorama import Fore, Style\n",
    "\n",
    "from tqdm import tqdm\n",
    "from IPython.display import clear_output\n",
    "\n",
    "import warnings\n",
    "warnings.filterwarnings('ignore')\n",
    "pd.options.display.max_columns = None\n",
    "\n",
    "import lightgbm as lgb\n",
    "from catboost import CatBoostRegressor, CatBoostClassifier\n",
    "from xgboost import XGBRegressor\n",
    "from catboost import CatBoostRegressor\n",
    "import xgboost as xgb\n",
    "from sklearn.ensemble import VotingRegressor\n",
    "from sklearn.model_selection import *\n",
    "from sklearn.metrics import *\n",
    "\n",
    "SEED = 42\n",
    "n_splits = 5"
   ]
  },
  {
   "cell_type": "code",
   "execution_count": 3,
   "id": "fa87d83d",
   "metadata": {
    "execution": {
     "iopub.execute_input": "2024-12-01T03:41:44.880065Z",
     "iopub.status.busy": "2024-12-01T03:41:44.879436Z",
     "iopub.status.idle": "2024-12-01T03:41:44.974381Z",
     "shell.execute_reply": "2024-12-01T03:41:44.973126Z"
    },
    "papermill": {
     "duration": 0.104038,
     "end_time": "2024-12-01T03:41:44.976917",
     "exception": false,
     "start_time": "2024-12-01T03:41:44.872879",
     "status": "completed"
    },
    "tags": []
   },
   "outputs": [],
   "source": [
    "full = pd.read_csv('/kaggle/input/child-mind-institute-problematic-internet-use/train.csv')\n",
    "test = pd.read_csv('/kaggle/input/child-mind-institute-problematic-internet-use/test.csv')\n",
    "\n",
    "train = full.dropna(subset=['sii'])\n",
    "\n",
    "# train, test = train_test_split(full_removed, test_size=0.15, random_state=42)\n",
    "\n",
    "# Save or display the train and test data\n",
    "# output_path = r'C:\\Users\\mingy\\OneDrive - University of Iowa\\Desktop\\STAT5400 PC\\project'\n",
    "\n",
    "# Save the datasets to the specified folder\n",
    "# full_removed.to_csv(f'{output_path}\\\\full_data.csv', index=False)\n",
    "# train.to_csv(f'{output_path}\\\\train_data.csv', index=False)\n",
    "# test.to_csv(f'{output_path}\\\\test_data.csv', index=False)"
   ]
  },
  {
   "cell_type": "code",
   "execution_count": 4,
   "id": "81b92db0",
   "metadata": {
    "execution": {
     "iopub.execute_input": "2024-12-01T03:41:44.988631Z",
     "iopub.status.busy": "2024-12-01T03:41:44.988232Z",
     "iopub.status.idle": "2024-12-01T03:41:44.996094Z",
     "shell.execute_reply": "2024-12-01T03:41:44.994916Z"
    },
    "papermill": {
     "duration": 0.01639,
     "end_time": "2024-12-01T03:41:44.998645",
     "exception": false,
     "start_time": "2024-12-01T03:41:44.982255",
     "status": "completed"
    },
    "tags": []
   },
   "outputs": [
    {
     "data": {
      "text/plain": [
       "20"
      ]
     },
     "execution_count": 4,
     "metadata": {},
     "output_type": "execute_result"
    }
   ],
   "source": [
    "test\n",
    "len(test)"
   ]
  },
  {
   "cell_type": "code",
   "execution_count": 5,
   "id": "79d83868",
   "metadata": {
    "execution": {
     "iopub.execute_input": "2024-12-01T03:41:45.012112Z",
     "iopub.status.busy": "2024-12-01T03:41:45.011714Z",
     "iopub.status.idle": "2024-12-01T03:41:45.017131Z",
     "shell.execute_reply": "2024-12-01T03:41:45.016106Z"
    },
    "papermill": {
     "duration": 0.015229,
     "end_time": "2024-12-01T03:41:45.019677",
     "exception": false,
     "start_time": "2024-12-01T03:41:45.004448",
     "status": "completed"
    },
    "tags": []
   },
   "outputs": [],
   "source": [
    "test_id = test['id']"
   ]
  },
  {
   "cell_type": "code",
   "execution_count": 6,
   "id": "31125ab9",
   "metadata": {
    "execution": {
     "iopub.execute_input": "2024-12-01T03:41:45.031562Z",
     "iopub.status.busy": "2024-12-01T03:41:45.031211Z",
     "iopub.status.idle": "2024-12-01T03:41:45.085945Z",
     "shell.execute_reply": "2024-12-01T03:41:45.084726Z"
    },
    "papermill": {
     "duration": 0.06362,
     "end_time": "2024-12-01T03:41:45.088651",
     "exception": false,
     "start_time": "2024-12-01T03:41:45.025031",
     "status": "completed"
    },
    "tags": []
   },
   "outputs": [],
   "source": [
    "train = train.drop('id',axis=1)\n",
    "test = test.drop('id',axis=1)\n",
    "\n",
    "featuresCols = ['Basic_Demos-Enroll_Season', 'Basic_Demos-Age', 'Basic_Demos-Sex',\n",
    "       'CGAS-Season', 'CGAS-CGAS_Score', 'Physical-Season', 'Physical-BMI',\n",
    "       'Physical-Height', 'Physical-Weight', 'Physical-Waist_Circumference',\n",
    "       'Physical-Diastolic_BP', 'Physical-HeartRate', 'Physical-Systolic_BP',\n",
    "       'Fitness_Endurance-Season', 'Fitness_Endurance-Max_Stage',\n",
    "       'Fitness_Endurance-Time_Mins', 'Fitness_Endurance-Time_Sec',\n",
    "       'FGC-Season', 'FGC-FGC_CU', 'FGC-FGC_CU_Zone', 'FGC-FGC_GSND',\n",
    "       'FGC-FGC_GSND_Zone', 'FGC-FGC_GSD', 'FGC-FGC_GSD_Zone', 'FGC-FGC_PU',\n",
    "       'FGC-FGC_PU_Zone', 'FGC-FGC_SRL', 'FGC-FGC_SRL_Zone', 'FGC-FGC_SRR',\n",
    "       'FGC-FGC_SRR_Zone', 'FGC-FGC_TL', 'FGC-FGC_TL_Zone', 'BIA-Season',\n",
    "       'BIA-BIA_Activity_Level_num', 'BIA-BIA_BMC', 'BIA-BIA_BMI',\n",
    "       'BIA-BIA_BMR', 'BIA-BIA_DEE', 'BIA-BIA_ECW', 'BIA-BIA_FFM',\n",
    "       'BIA-BIA_FFMI', 'BIA-BIA_FMI', 'BIA-BIA_Fat', 'BIA-BIA_Frame_num',\n",
    "       'BIA-BIA_ICW', 'BIA-BIA_LDM', 'BIA-BIA_LST', 'BIA-BIA_SMM',\n",
    "       'BIA-BIA_TBW', 'PAQ_A-Season', 'PAQ_A-PAQ_A_Total', 'PAQ_C-Season',\n",
    "       'PAQ_C-PAQ_C_Total', 'SDS-Season', 'SDS-SDS_Total_Raw',\n",
    "       'SDS-SDS_Total_T', 'PreInt_EduHx-Season',\n",
    "       'PreInt_EduHx-computerinternet_hoursday','sii']\n",
    "\n",
    "train = train[featuresCols]\n",
    "#train = train.dropna(subset='sii')\n",
    "\n",
    "cat_c = ['Basic_Demos-Enroll_Season','CGAS-Season','Physical-Season','Fitness_Endurance-Season','FGC-Season',\n",
    " 'BIA-Season','PAQ_A-Season','PAQ_C-Season','SDS-Season','PreInt_EduHx-Season']\n",
    "\n",
    "def update(df):\n",
    "    global cat_c\n",
    "    for c in cat_c : \n",
    "        df[c] = df[c].fillna('Missing')\n",
    "        df[c] = df[c].astype('category')\n",
    "        \n",
    "    return df\n",
    "\n",
    "def create_mapping(column, dataset):\n",
    "    unique_values = dataset[column].unique()\n",
    "    return {value: idx for idx, value in enumerate(unique_values)}\n",
    "\n",
    "    \n",
    "for col in cat_c:\n",
    "    all_values = pd.concat([train[col], test[col]]).unique()\n",
    "    mapping = {value: idx for idx, value in enumerate(all_values)}\n",
    "\n",
    "    train[col] = train[col].replace(mapping).astype(int)\n",
    "    test[col] = test[col].replace(mapping).astype(int)"
   ]
  },
  {
   "cell_type": "code",
   "execution_count": 7,
   "id": "04e78a10",
   "metadata": {
    "execution": {
     "iopub.execute_input": "2024-12-01T03:41:45.100376Z",
     "iopub.status.busy": "2024-12-01T03:41:45.099983Z",
     "iopub.status.idle": "2024-12-01T03:42:24.406894Z",
     "shell.execute_reply": "2024-12-01T03:42:24.405802Z"
    },
    "papermill": {
     "duration": 39.31588,
     "end_time": "2024-12-01T03:42:24.409616",
     "exception": false,
     "start_time": "2024-12-01T03:41:45.093736",
     "status": "completed"
    },
    "tags": []
   },
   "outputs": [
    {
     "name": "stdout",
     "output_type": "stream",
     "text": [
      "开始填补特征: CGAS-CGAS_Score\n",
      "[LightGBM] [Info] Auto-choosing row-wise multi-threading, the overhead of testing was 0.002892 seconds.\n",
      "You can set `force_row_wise=true` to remove the overhead.\n",
      "And if memory is not enough, you can set `force_col_wise=true`.\n",
      "[LightGBM] [Info] Total Bins 5883\n",
      "[LightGBM] [Info] Number of data points in the train set: 2350, number of used features: 58\n",
      "[LightGBM] [Info] Start training from score 65.150213\n",
      "开始填补特征: Physical-BMI\n",
      "[LightGBM] [Info] Auto-choosing row-wise multi-threading, the overhead of testing was 0.000664 seconds.\n",
      "You can set `force_row_wise=true` to remove the overhead.\n",
      "And if memory is not enough, you can set `force_col_wise=true`.\n",
      "[LightGBM] [Info] Total Bins 5932\n",
      "[LightGBM] [Info] Number of data points in the train set: 2540, number of used features: 58\n",
      "[LightGBM] [Info] Start training from score 19.129303\n",
      "开始填补特征: Physical-Height\n",
      "[LightGBM] [Info] Auto-choosing row-wise multi-threading, the overhead of testing was 0.000648 seconds.\n",
      "You can set `force_row_wise=true` to remove the overhead.\n",
      "And if memory is not enough, you can set `force_col_wise=true`.\n",
      "[LightGBM] [Info] Total Bins 5970\n",
      "[LightGBM] [Info] Number of data points in the train set: 2543, number of used features: 58\n",
      "[LightGBM] [Info] Start training from score 55.882045\n",
      "开始填补特征: Physical-Weight\n",
      "[LightGBM] [Info] Auto-choosing row-wise multi-threading, the overhead of testing was 0.000666 seconds.\n",
      "You can set `force_row_wise=true` to remove the overhead.\n",
      "And if memory is not enough, you can set `force_col_wise=true`.\n",
      "[LightGBM] [Info] Total Bins 5936\n",
      "[LightGBM] [Info] Number of data points in the train set: 2585, number of used features: 58\n",
      "[LightGBM] [Info] Start training from score 87.796143\n",
      "开始填补特征: Physical-Diastolic_BP\n",
      "[LightGBM] [Info] Auto-choosing row-wise multi-threading, the overhead of testing was 0.000648 seconds.\n",
      "You can set `force_row_wise=true` to remove the overhead.\n",
      "And if memory is not enough, you can set `force_col_wise=true`.\n",
      "[LightGBM] [Info] Total Bins 6093\n",
      "[LightGBM] [Info] Number of data points in the train set: 2489, number of used features: 58\n",
      "[LightGBM] [Info] Start training from score 69.758538\n",
      "开始填补特征: Physical-HeartRate\n",
      "[LightGBM] [Info] Auto-choosing row-wise multi-threading, the overhead of testing was 0.000651 seconds.\n",
      "You can set `force_row_wise=true` to remove the overhead.\n",
      "And if memory is not enough, you can set `force_col_wise=true`.\n",
      "[LightGBM] [Info] Total Bins 6102\n",
      "[LightGBM] [Info] Number of data points in the train set: 2498, number of used features: 58\n",
      "[LightGBM] [Info] Start training from score 81.822658\n",
      "开始填补特征: Physical-Systolic_BP\n",
      "[LightGBM] [Info] Auto-choosing row-wise multi-threading, the overhead of testing was 0.000696 seconds.\n",
      "You can set `force_row_wise=true` to remove the overhead.\n",
      "And if memory is not enough, you can set `force_col_wise=true`.\n",
      "[LightGBM] [Info] Total Bins 6077\n",
      "[LightGBM] [Info] Number of data points in the train set: 2489, number of used features: 58\n",
      "[LightGBM] [Info] Start training from score 117.129771\n",
      "开始填补特征: SDS-SDS_Total_Raw\n",
      "[LightGBM] [Info] Auto-choosing row-wise multi-threading, the overhead of testing was 0.000657 seconds.\n",
      "You can set `force_row_wise=true` to remove the overhead.\n",
      "And if memory is not enough, you can set `force_col_wise=true`.\n",
      "[LightGBM] [Info] Total Bins 6513\n",
      "[LightGBM] [Info] Number of data points in the train set: 2537, number of used features: 58\n",
      "[LightGBM] [Info] Start training from score 40.961372\n",
      "开始填补特征: SDS-SDS_Total_T\n",
      "[LightGBM] [Info] Auto-choosing row-wise multi-threading, the overhead of testing was 0.000650 seconds.\n",
      "You can set `force_row_wise=true` to remove the overhead.\n",
      "And if memory is not enough, you can set `force_col_wise=true`.\n",
      "[LightGBM] [Info] Total Bins 6515\n",
      "[LightGBM] [Info] Number of data points in the train set: 2535, number of used features: 58\n",
      "[LightGBM] [Info] Start training from score 57.626430\n",
      "开始填补特征: PreInt_EduHx-computerinternet_hoursday\n",
      "[LightGBM] [Info] Auto-choosing row-wise multi-threading, the overhead of testing was 0.000691 seconds.\n",
      "You can set `force_row_wise=true` to remove the overhead.\n",
      "And if memory is not enough, you can set `force_col_wise=true`.\n",
      "[LightGBM] [Info] Total Bins 6893\n",
      "[LightGBM] [Info] Number of data points in the train set: 2670, number of used features: 58\n",
      "[LightGBM] [Info] Start training from score 1.017603\n"
     ]
    }
   ],
   "source": [
    "import pandas as pd\n",
    "import numpy as np\n",
    "from lightgbm import LGBMRegressor, LGBMClassifier\n",
    "\n",
    "def fill_missing_with_lgbm(train, test, target_column, n_estimators=1000, random_state=42):\n",
    "    train = train.copy()\n",
    "    test = test.copy()\n",
    "\n",
    "    # Determine the model type\n",
    "    if train[target_column].dtype == 'object' or target_column in cat_c:\n",
    "        model_type = 'classification'\n",
    "    else:\n",
    "        model_type = 'regression'\n",
    "\n",
    "    # Add a flag to differentiate train and test\n",
    "    train['is_train'] = 1\n",
    "    test['is_train'] = 0\n",
    "\n",
    "    # Combine train and test\n",
    "    df = pd.concat([train, test], ignore_index=True)\n",
    "\n",
    "    # Identify features excluding the target column and 'is_train'\n",
    "    features_columns = [col for col in df.columns if col not in [target_column, 'is_train']]\n",
    "\n",
    "    # Drop non-numeric columns from features\n",
    "    numeric_features = df[features_columns].select_dtypes(include=['number']).columns.tolist()\n",
    "    features_columns = numeric_features\n",
    "\n",
    "    # Split into rows with and without missing values\n",
    "    df_missing = df[df[target_column].isnull()]\n",
    "    df_not_missing = df[~df[target_column].isnull()]\n",
    "\n",
    "    if df_missing.empty or df_not_missing.empty:\n",
    "        print(f\"No missing data in '{target_column}' column or all data are missing.\")\n",
    "        return train.drop(columns=['is_train']), test.drop(columns=['is_train'])\n",
    "\n",
    "    # Prepare training data for LightGBM\n",
    "    X_train = df_not_missing[features_columns]\n",
    "    y_train = df_not_missing[target_column]\n",
    "\n",
    "    # Prepare model\n",
    "    if model_type == 'regression':\n",
    "        model = LGBMRegressor(n_estimators=n_estimators, random_state=random_state)\n",
    "    else:\n",
    "        model = LGBMClassifier(n_estimators=n_estimators, random_state=random_state)\n",
    "\n",
    "    # Fit the model\n",
    "    model.fit(X_train, y_train)\n",
    "\n",
    "    # Predict missing values\n",
    "    X_pred = df_missing[features_columns]\n",
    "    y_pred = model.predict(X_pred)\n",
    "\n",
    "    # Fill missing values\n",
    "    df.loc[df[target_column].isnull(), target_column] = y_pred\n",
    "\n",
    "    # Split back into train and test\n",
    "    train_filled = df[df['is_train'] == 1].drop(columns=['is_train'])\n",
    "    test_filled = df[df['is_train'] == 0].drop(columns=['is_train'])\n",
    "\n",
    "    return train_filled, test_filled\n",
    "\n",
    "# List of columns to fill\n",
    "tianbu_cols = [\n",
    "    'CGAS-CGAS_Score', 'Physical-BMI', 'Physical-Height', 'Physical-Weight',\n",
    "    'Physical-Diastolic_BP', 'Physical-HeartRate', 'Physical-Systolic_BP',\n",
    "    'SDS-SDS_Total_Raw', 'SDS-SDS_Total_T', 'PreInt_EduHx-computerinternet_hoursday'\n",
    "]\n",
    "\n",
    "# Define categorical columns if necessary\n",
    "cat_c = []  # Replace with a list of categorical columns, if applicable\n",
    "\n",
    "# Loop through columns to fill missing values\n",
    "for col in tianbu_cols:\n",
    "    print(f\"开始填补特征: {col}\")\n",
    "    train, test = fill_missing_with_lgbm(train, test, col)"
   ]
  },
  {
   "cell_type": "code",
   "execution_count": 8,
   "id": "86d44108",
   "metadata": {
    "execution": {
     "iopub.execute_input": "2024-12-01T03:42:24.422418Z",
     "iopub.status.busy": "2024-12-01T03:42:24.421963Z",
     "iopub.status.idle": "2024-12-01T03:43:13.913927Z",
     "shell.execute_reply": "2024-12-01T03:43:13.912841Z"
    },
    "papermill": {
     "duration": 49.501321,
     "end_time": "2024-12-01T03:43:13.916685",
     "exception": false,
     "start_time": "2024-12-01T03:42:24.415364",
     "status": "completed"
    },
    "tags": []
   },
   "outputs": [
    {
     "name": "stdout",
     "output_type": "stream",
     "text": [
      "开始填补特征：FGC-FGC_CU\n",
      "[LightGBM] [Info] Auto-choosing row-wise multi-threading, the overhead of testing was 0.000541 seconds.\n",
      "You can set `force_row_wise=true` to remove the overhead.\n",
      "And if memory is not enough, you can set `force_col_wise=true`.\n",
      "[LightGBM] [Info] Total Bins 6129\n",
      "[LightGBM] [Info] Number of data points in the train set: 1932, number of used features: 58\n",
      "[LightGBM] [Info] Start training from score 11.891304\n",
      "开始填补特征：FGC-FGC_CU_Zone\n",
      "[LightGBM] [Info] Auto-choosing row-wise multi-threading, the overhead of testing was 0.000529 seconds.\n",
      "You can set `force_row_wise=true` to remove the overhead.\n",
      "And if memory is not enough, you can set `force_col_wise=true`.\n",
      "[LightGBM] [Info] Total Bins 6161\n",
      "[LightGBM] [Info] Number of data points in the train set: 1897, number of used features: 58\n",
      "[LightGBM] [Info] Start training from score 0.524512\n",
      "[LightGBM] [Warning] No further splits with positive gain, best gain: -inf\n",
      "开始填补特征：FGC-FGC_GSND\n",
      "[LightGBM] [Info] Auto-choosing row-wise multi-threading, the overhead of testing was 0.000302 seconds.\n",
      "You can set `force_row_wise=true` to remove the overhead.\n",
      "And if memory is not enough, you can set `force_col_wise=true`.\n",
      "[LightGBM] [Info] Total Bins 5247\n",
      "[LightGBM] [Info] Number of data points in the train set: 877, number of used features: 58\n",
      "[LightGBM] [Info] Start training from score 22.044230\n",
      "开始填补特征：FGC-FGC_GSND_Zone\n",
      "[LightGBM] [Info] Auto-choosing row-wise multi-threading, the overhead of testing was 0.000266 seconds.\n",
      "You can set `force_row_wise=true` to remove the overhead.\n",
      "And if memory is not enough, you can set `force_col_wise=true`.\n",
      "[LightGBM] [Info] Total Bins 5460\n",
      "[LightGBM] [Info] Number of data points in the train set: 869, number of used features: 58\n",
      "[LightGBM] [Info] Start training from score 1.819333\n",
      "[LightGBM] [Warning] No further splits with positive gain, best gain: -inf\n",
      "开始填补特征：FGC-FGC_GSD\n",
      "[LightGBM] [Info] Auto-choosing row-wise multi-threading, the overhead of testing was 0.000272 seconds.\n",
      "You can set `force_row_wise=true` to remove the overhead.\n",
      "And if memory is not enough, you can set `force_col_wise=true`.\n",
      "[LightGBM] [Info] Total Bins 5251\n",
      "[LightGBM] [Info] Number of data points in the train set: 876, number of used features: 58\n",
      "[LightGBM] [Info] Start training from score 23.047432\n",
      "开始填补特征：FGC-FGC_GSD_Zone\n",
      "[LightGBM] [Info] Auto-choosing row-wise multi-threading, the overhead of testing was 0.000275 seconds.\n",
      "You can set `force_row_wise=true` to remove the overhead.\n",
      "And if memory is not enough, you can set `force_col_wise=true`.\n",
      "[LightGBM] [Info] Total Bins 5469\n",
      "[LightGBM] [Info] Number of data points in the train set: 869, number of used features: 58\n",
      "[LightGBM] [Info] Start training from score 1.886076\n",
      "[LightGBM] [Warning] No further splits with positive gain, best gain: -inf\n",
      "[LightGBM] [Warning] No further splits with positive gain, best gain: -inf\n",
      "开始填补特征：FGC-FGC_PU\n",
      "[LightGBM] [Info] Auto-choosing row-wise multi-threading, the overhead of testing was 0.000530 seconds.\n",
      "You can set `force_row_wise=true` to remove the overhead.\n",
      "And if memory is not enough, you can set `force_col_wise=true`.\n",
      "[LightGBM] [Info] Total Bins 6650\n",
      "[LightGBM] [Info] Number of data points in the train set: 1922, number of used features: 58\n",
      "[LightGBM] [Info] Start training from score 5.770552\n",
      "开始填补特征：FGC-FGC_PU_Zone\n",
      "[LightGBM] [Info] Auto-choosing row-wise multi-threading, the overhead of testing was 0.000500 seconds.\n",
      "You can set `force_row_wise=true` to remove the overhead.\n",
      "And if memory is not enough, you can set `force_col_wise=true`.\n",
      "[LightGBM] [Info] Total Bins 6661\n",
      "[LightGBM] [Info] Number of data points in the train set: 1888, number of used features: 58\n",
      "[LightGBM] [Info] Start training from score 0.345869\n",
      "[LightGBM] [Warning] No further splits with positive gain, best gain: -inf\n",
      "[LightGBM] [Warning] No further splits with positive gain, best gain: -inf\n",
      "开始填补特征：FGC-FGC_SRL\n",
      "[LightGBM] [Info] Auto-choosing row-wise multi-threading, the overhead of testing was 0.000531 seconds.\n",
      "You can set `force_row_wise=true` to remove the overhead.\n",
      "And if memory is not enough, you can set `force_col_wise=true`.\n",
      "[LightGBM] [Info] Total Bins 6655\n",
      "[LightGBM] [Info] Number of data points in the train set: 1924, number of used features: 58\n",
      "[LightGBM] [Info] Start training from score 8.759407\n",
      "开始填补特征：FGC-FGC_SRL_Zone\n",
      "[LightGBM] [Info] Auto-choosing row-wise multi-threading, the overhead of testing was 0.000521 seconds.\n",
      "You can set `force_row_wise=true` to remove the overhead.\n",
      "And if memory is not enough, you can set `force_col_wise=true`.\n",
      "[LightGBM] [Info] Total Bins 6657\n",
      "[LightGBM] [Info] Number of data points in the train set: 1890, number of used features: 58\n",
      "[LightGBM] [Info] Start training from score 0.635979\n",
      "[LightGBM] [Warning] No further splits with positive gain, best gain: -inf\n",
      "[LightGBM] [Warning] No further splits with positive gain, best gain: -inf\n",
      "[LightGBM] [Warning] No further splits with positive gain, best gain: -inf\n",
      "[LightGBM] [Warning] No further splits with positive gain, best gain: -inf\n",
      "[LightGBM] [Warning] No further splits with positive gain, best gain: -inf\n",
      "开始填补特征：FGC-FGC_SRR\n",
      "[LightGBM] [Info] Auto-choosing row-wise multi-threading, the overhead of testing was 0.000541 seconds.\n",
      "You can set `force_row_wise=true` to remove the overhead.\n",
      "And if memory is not enough, you can set `force_col_wise=true`.\n",
      "[LightGBM] [Info] Total Bins 6664\n",
      "[LightGBM] [Info] Number of data points in the train set: 1926, number of used features: 58\n",
      "[LightGBM] [Info] Start training from score 8.871703\n",
      "开始填补特征：FGC-FGC_SRR_Zone\n",
      "[LightGBM] [Info] Auto-choosing row-wise multi-threading, the overhead of testing was 0.000529 seconds.\n",
      "You can set `force_row_wise=true` to remove the overhead.\n",
      "And if memory is not enough, you can set `force_col_wise=true`.\n",
      "[LightGBM] [Info] Total Bins 6659\n",
      "[LightGBM] [Info] Number of data points in the train set: 1892, number of used features: 58\n",
      "[LightGBM] [Info] Start training from score 0.634249\n",
      "[LightGBM] [Warning] No further splits with positive gain, best gain: -inf\n",
      "[LightGBM] [Warning] No further splits with positive gain, best gain: -inf\n",
      "[LightGBM] [Warning] No further splits with positive gain, best gain: -inf\n",
      "[LightGBM] [Warning] No further splits with positive gain, best gain: -inf\n",
      "[LightGBM] [Warning] No further splits with positive gain, best gain: -inf\n",
      "开始填补特征：FGC-FGC_TL\n",
      "[LightGBM] [Info] Auto-choosing col-wise multi-threading, the overhead of testing was 0.001527 seconds.\n",
      "You can set `force_col_wise=true` to remove the overhead.\n",
      "[LightGBM] [Info] Total Bins 6692\n",
      "[LightGBM] [Info] Number of data points in the train set: 1932, number of used features: 58\n",
      "[LightGBM] [Info] Start training from score 9.111775\n",
      "开始填补特征：FGC-FGC_TL_Zone\n",
      "[LightGBM] [Info] Auto-choosing row-wise multi-threading, the overhead of testing was 0.000506 seconds.\n",
      "You can set `force_row_wise=true` to remove the overhead.\n",
      "And if memory is not enough, you can set `force_col_wise=true`.\n",
      "[LightGBM] [Info] Total Bins 6673\n",
      "[LightGBM] [Info] Number of data points in the train set: 1898, number of used features: 58\n",
      "[LightGBM] [Info] Start training from score 0.772392\n",
      "[LightGBM] [Warning] No further splits with positive gain, best gain: -inf\n",
      "[LightGBM] [Warning] No further splits with positive gain, best gain: -inf\n",
      "[LightGBM] [Warning] No further splits with positive gain, best gain: -inf\n",
      "[LightGBM] [Warning] No further splits with positive gain, best gain: -inf\n",
      "[LightGBM] [Warning] No further splits with positive gain, best gain: -inf\n",
      "[LightGBM] [Warning] No further splits with positive gain, best gain: -inf\n",
      "[LightGBM] [Warning] No further splits with positive gain, best gain: -inf\n",
      "[LightGBM] [Warning] No further splits with positive gain, best gain: -inf\n",
      "[LightGBM] [Warning] No further splits with positive gain, best gain: -inf\n",
      "[LightGBM] [Warning] No further splits with positive gain, best gain: -inf\n",
      "[LightGBM] [Warning] No further splits with positive gain, best gain: -inf\n",
      "[LightGBM] [Warning] No further splits with positive gain, best gain: -inf\n",
      "[LightGBM] [Warning] No further splits with positive gain, best gain: -inf\n",
      "[LightGBM] [Warning] No further splits with positive gain, best gain: -inf\n",
      "[LightGBM] [Warning] No further splits with positive gain, best gain: -inf\n",
      "[LightGBM] [Warning] No further splits with positive gain, best gain: -inf\n"
     ]
    }
   ],
   "source": [
    "FGC_cols = [\n",
    "  'FGC-FGC_CU',\n",
    "  'FGC-FGC_CU_Zone',\n",
    "  'FGC-FGC_GSND',\n",
    "  'FGC-FGC_GSND_Zone',\n",
    "  'FGC-FGC_GSD',\n",
    "  'FGC-FGC_GSD_Zone',\n",
    "  'FGC-FGC_PU',\n",
    "  'FGC-FGC_PU_Zone',\n",
    "  'FGC-FGC_SRL',\n",
    "  'FGC-FGC_SRL_Zone',\n",
    "  'FGC-FGC_SRR',\n",
    "  'FGC-FGC_SRR_Zone',\n",
    "  'FGC-FGC_TL',\n",
    "  'FGC-FGC_TL_Zone'\n",
    "]\n",
    "for col in FGC_cols:\n",
    "    print(\"开始填补特征：\"+ col)\n",
    "    train, test = fill_missing_with_lgbm(train, test, col)"
   ]
  },
  {
   "cell_type": "code",
   "execution_count": 9,
   "id": "253f2fd0",
   "metadata": {
    "execution": {
     "iopub.execute_input": "2024-12-01T03:43:13.932215Z",
     "iopub.status.busy": "2024-12-01T03:43:13.931796Z",
     "iopub.status.idle": "2024-12-01T03:43:31.001940Z",
     "shell.execute_reply": "2024-12-01T03:43:31.001034Z"
    },
    "papermill": {
     "duration": 17.080757,
     "end_time": "2024-12-01T03:43:31.004424",
     "exception": false,
     "start_time": "2024-12-01T03:43:13.923667",
     "status": "completed"
    },
    "tags": []
   },
   "outputs": [
    {
     "name": "stdout",
     "output_type": "stream",
     "text": [
      "开始填补特征：BIA-BIA_TBW\n",
      "[LightGBM] [Info] Auto-choosing row-wise multi-threading, the overhead of testing was 0.000455 seconds.\n",
      "You can set `force_row_wise=true` to remove the overhead.\n",
      "And if memory is not enough, you can set `force_col_wise=true`.\n",
      "[LightGBM] [Info] Total Bins 8154\n",
      "[LightGBM] [Info] Number of data points in the train set: 1821, number of used features: 58\n",
      "[LightGBM] [Info] Start training from score 53.878065\n",
      "开始填补特征：BIA-BIA_TBW\n",
      "No missing data in 'BIA-BIA_TBW' column or all data are missing.\n",
      "开始填补特征：BIA-BIA_DEE\n",
      "[LightGBM] [Info] Auto-choosing row-wise multi-threading, the overhead of testing was 0.000743 seconds.\n",
      "You can set `force_row_wise=true` to remove the overhead.\n",
      "And if memory is not enough, you can set `force_col_wise=true`.\n",
      "[LightGBM] [Info] Total Bins 8154\n",
      "[LightGBM] [Info] Number of data points in the train set: 1821, number of used features: 58\n",
      "[LightGBM] [Info] Start training from score 2068.609725\n",
      "开始填补特征：BIA-BIA_BMC\n",
      "[LightGBM] [Info] Auto-choosing row-wise multi-threading, the overhead of testing was 0.000465 seconds.\n",
      "You can set `force_row_wise=true` to remove the overhead.\n",
      "And if memory is not enough, you can set `force_col_wise=true`.\n",
      "[LightGBM] [Info] Total Bins 8154\n",
      "[LightGBM] [Info] Number of data points in the train set: 1821, number of used features: 58\n",
      "[LightGBM] [Info] Start training from score 6.939907\n",
      "开始填补特征：BIA-BIA_Fat\n",
      "[LightGBM] [Info] Auto-choosing row-wise multi-threading, the overhead of testing was 0.000465 seconds.\n",
      "You can set `force_row_wise=true` to remove the overhead.\n",
      "And if memory is not enough, you can set `force_col_wise=true`.\n",
      "[LightGBM] [Info] Total Bins 8154\n",
      "[LightGBM] [Info] Number of data points in the train set: 1821, number of used features: 58\n",
      "[LightGBM] [Info] Start training from score 15.854227\n",
      "开始填补特征：BIA-BIA_BMI\n",
      "[LightGBM] [Info] Auto-choosing row-wise multi-threading, the overhead of testing was 0.000465 seconds.\n",
      "You can set `force_row_wise=true` to remove the overhead.\n",
      "And if memory is not enough, you can set `force_col_wise=true`.\n",
      "[LightGBM] [Info] Total Bins 8154\n",
      "[LightGBM] [Info] Number of data points in the train set: 1821, number of used features: 58\n",
      "[LightGBM] [Info] Start training from score 19.232577\n"
     ]
    }
   ],
   "source": [
    "BIA = [\"BIA-BIA_TBW\",\"BIA-BIA_TBW\",\"BIA-BIA_DEE\",\"BIA-BIA_BMC\",\"BIA-BIA_Fat\", \"BIA-BIA_BMI\",]\n",
    "for col in BIA:\n",
    "    print(\"开始填补特征：\"+ col)\n",
    "    train, test = fill_missing_with_lgbm(train, test, col)"
   ]
  },
  {
   "cell_type": "code",
   "execution_count": 10,
   "id": "b8a90980",
   "metadata": {
    "execution": {
     "iopub.execute_input": "2024-12-01T03:43:31.020125Z",
     "iopub.status.busy": "2024-12-01T03:43:31.019686Z",
     "iopub.status.idle": "2024-12-01T03:43:31.025430Z",
     "shell.execute_reply": "2024-12-01T03:43:31.023915Z"
    },
    "papermill": {
     "duration": 0.016294,
     "end_time": "2024-12-01T03:43:31.027807",
     "exception": false,
     "start_time": "2024-12-01T03:43:31.011513",
     "status": "completed"
    },
    "tags": []
   },
   "outputs": [],
   "source": [
    "train = update(train)\n",
    "test = update(test)"
   ]
  },
  {
   "cell_type": "code",
   "execution_count": 11,
   "id": "56f6f68b",
   "metadata": {
    "execution": {
     "iopub.execute_input": "2024-12-01T03:43:31.043592Z",
     "iopub.status.busy": "2024-12-01T03:43:31.043178Z",
     "iopub.status.idle": "2024-12-01T03:43:31.405472Z",
     "shell.execute_reply": "2024-12-01T03:43:31.404266Z"
    },
    "papermill": {
     "duration": 0.372883,
     "end_time": "2024-12-01T03:43:31.407768",
     "exception": false,
     "start_time": "2024-12-01T03:43:31.034885",
     "status": "completed"
    },
    "tags": []
   },
   "outputs": [
    {
     "data": {
      "text/plain": [
       "<Axes: >"
      ]
     },
     "execution_count": 11,
     "metadata": {},
     "output_type": "execute_result"
    },
    {
     "data": {
      "image/png": "[encoded data removed]",
      "text/plain": [
       "<Figure size 640x480 with 1 Axes>"
      ]
     },
     "metadata": {},
     "output_type": "display_data"
    }
   ],
   "source": [
    "train[\"sii\"].hist()"
   ]
  },
  {
   "cell_type": "code",
   "execution_count": 12,
   "id": "38fe7bc2",
   "metadata": {
    "execution": {
     "iopub.execute_input": "2024-12-01T03:43:31.424465Z",
     "iopub.status.busy": "2024-12-01T03:43:31.424082Z",
     "iopub.status.idle": "2024-12-01T03:43:31.436319Z",
     "shell.execute_reply": "2024-12-01T03:43:31.435248Z"
    },
    "papermill": {
     "duration": 0.023187,
     "end_time": "2024-12-01T03:43:31.438592",
     "exception": false,
     "start_time": "2024-12-01T03:43:31.415405",
     "status": "completed"
    },
    "tags": []
   },
   "outputs": [
    {
     "data": {
      "text/plain": [
       "Basic_Demos-Enroll_Season                  0.000000\n",
       "Basic_Demos-Age                            0.000000\n",
       "Basic_Demos-Sex                            0.000000\n",
       "CGAS-Season                                0.000000\n",
       "CGAS-CGAS_Score                            0.000000\n",
       "Physical-Season                            0.000000\n",
       "Physical-BMI                               0.000000\n",
       "Physical-Height                            0.000000\n",
       "Physical-Weight                            0.000000\n",
       "Physical-Waist_Circumference              82.346491\n",
       "Physical-Diastolic_BP                      0.000000\n",
       "Physical-HeartRate                         0.000000\n",
       "Physical-Systolic_BP                       0.000000\n",
       "Fitness_Endurance-Season                   0.000000\n",
       "Fitness_Endurance-Max_Stage               73.282164\n",
       "Fitness_Endurance-Time_Mins               73.391813\n",
       "Fitness_Endurance-Time_Sec                73.391813\n",
       "FGC-Season                                 0.000000\n",
       "FGC-FGC_CU                                 0.000000\n",
       "FGC-FGC_CU_Zone                            0.000000\n",
       "FGC-FGC_GSND                               0.000000\n",
       "FGC-FGC_GSND_Zone                          0.000000\n",
       "FGC-FGC_GSD                                0.000000\n",
       "FGC-FGC_GSD_Zone                           0.000000\n",
       "FGC-FGC_PU                                 0.000000\n",
       "FGC-FGC_PU_Zone                            0.000000\n",
       "FGC-FGC_SRL                                0.000000\n",
       "FGC-FGC_SRL_Zone                           0.000000\n",
       "FGC-FGC_SRR                                0.000000\n",
       "FGC-FGC_SRR_Zone                           0.000000\n",
       "FGC-FGC_TL                                 0.000000\n",
       "FGC-FGC_TL_Zone                            0.000000\n",
       "BIA-Season                                 0.000000\n",
       "BIA-BIA_Activity_Level_num                33.735380\n",
       "BIA-BIA_BMC                                0.000000\n",
       "BIA-BIA_BMI                                0.000000\n",
       "BIA-BIA_BMR                               33.735380\n",
       "BIA-BIA_DEE                                0.000000\n",
       "BIA-BIA_ECW                               33.735380\n",
       "BIA-BIA_FFM                               33.735380\n",
       "BIA-BIA_FFMI                              33.735380\n",
       "BIA-BIA_FMI                               33.735380\n",
       "BIA-BIA_Fat                                0.000000\n",
       "BIA-BIA_Frame_num                         33.735380\n",
       "BIA-BIA_ICW                               33.735380\n",
       "BIA-BIA_LDM                               33.735380\n",
       "BIA-BIA_LST                               33.735380\n",
       "BIA-BIA_SMM                               33.735380\n",
       "BIA-BIA_TBW                                0.000000\n",
       "PAQ_A-Season                               0.000000\n",
       "PAQ_A-PAQ_A_Total                         86.732456\n",
       "PAQ_C-Season                               0.000000\n",
       "PAQ_C-PAQ_C_Total                         47.368421\n",
       "SDS-Season                                 0.000000\n",
       "SDS-SDS_Total_Raw                          0.000000\n",
       "SDS-SDS_Total_T                            0.000000\n",
       "PreInt_EduHx-Season                        0.000000\n",
       "PreInt_EduHx-computerinternet_hoursday     0.000000\n",
       "sii                                        0.000000\n",
       "dtype: float64"
      ]
     },
     "execution_count": 12,
     "metadata": {},
     "output_type": "execute_result"
    }
   ],
   "source": [
    "missing_percent_train = train.isnull().mean() * 100\n",
    "missing_percent_train"
   ]
  },
  {
   "cell_type": "code",
   "execution_count": 13,
   "id": "51735ba5",
   "metadata": {
    "execution": {
     "iopub.execute_input": "2024-12-01T03:43:31.455536Z",
     "iopub.status.busy": "2024-12-01T03:43:31.455113Z",
     "iopub.status.idle": "2024-12-01T03:43:31.465245Z",
     "shell.execute_reply": "2024-12-01T03:43:31.464045Z"
    },
    "papermill": {
     "duration": 0.021318,
     "end_time": "2024-12-01T03:43:31.467554",
     "exception": false,
     "start_time": "2024-12-01T03:43:31.446236",
     "status": "completed"
    },
    "tags": []
   },
   "outputs": [],
   "source": [
    "# interation imputation\n",
    "\n",
    "def create_interaction_features(df, feature_pairs):\n",
    "    global cat_c\n",
    "    for feature1, feature2 in feature_pairs:\n",
    "        if(feature1 not in cat_c or feature2 not in cat_c):\n",
    "            print(\"feature1:\" + feature1 + \",feature2:\" + feature2)\n",
    "            new_feature_name = f\"{feature1}_x_{feature2}\"\n",
    "            df[new_feature_name] = df[feature1] * df[feature2]\n",
    "    return df\n",
    "\n",
    "def create_chufa_features(df, feature_pairs):\n",
    "    global cat_c\n",
    "    for feature1, feature2 in feature_pairs:\n",
    "        if feature1 not in cat_c or feature2 not in cat_c:\n",
    "            print(f\"feature1: {feature1}, feature2: {feature2}\")\n",
    "            \n",
    "            # 构造 A/B 特征，先进行除法运算，但在除法之前控制出现0或NaN的情况\n",
    "            new_feature_name1 = f\"{feature1}_div_{feature2}\"\n",
    "            df[new_feature_name1] = df[feature1] / df[feature2]\n",
    "            \n",
    "            # 当A或B中有0或NaN时保留NaN\n",
    "            df[new_feature_name1] = df[new_feature_name1].mask((df[feature1] == 0) | (df[feature2] == 0) | \n",
    "                                                               df[feature1].isna() | df[feature2].isna())\n",
    "            \n",
    "            # 构造 B/A 特征，类似方式处理\n",
    "            new_feature_name2 = f\"{feature2}_div_{feature1}\"\n",
    "            df[new_feature_name2] = df[feature2] / df[feature1]\n",
    "            df[new_feature_name2] = df[new_feature_name2].mask((df[feature1] == 0) | (df[feature2] == 0) | \n",
    "                                                               df[feature1].isna() | df[feature2].isna())\n",
    "\n",
    "    return df"
   ]
  },
  {
   "cell_type": "code",
   "execution_count": 14,
   "id": "8537915a",
   "metadata": {
    "execution": {
     "iopub.execute_input": "2024-12-01T03:43:31.484601Z",
     "iopub.status.busy": "2024-12-01T03:43:31.483795Z",
     "iopub.status.idle": "2024-12-01T03:43:31.554237Z",
     "shell.execute_reply": "2024-12-01T03:43:31.552981Z"
    },
    "papermill": {
     "duration": 0.081456,
     "end_time": "2024-12-01T03:43:31.556573",
     "exception": false,
     "start_time": "2024-12-01T03:43:31.475117",
     "status": "completed"
    },
    "tags": []
   },
   "outputs": [
    {
     "name": "stdout",
     "output_type": "stream",
     "text": [
      "feature1:PreInt_EduHx-computerinternet_hoursday,feature2:Basic_Demos-Age\n",
      "feature1:Basic_Demos-Age,feature2:SDS-SDS_Total_T\n",
      "feature1:FGC-FGC_SRR_Zone,feature2:SDS-SDS_Total_T\n",
      "feature1:BIA-BIA_BMC,feature2:Physical-HeartRate\n",
      "feature1:BIA-BIA_Fat,feature2:Physical-BMI\n",
      "feature1:PreInt_EduHx-Season,feature2:Fitness_Endurance-Season\n",
      "feature1:SDS-SDS_Total_T,feature2:Physical-Systolic_BP\n",
      "feature1:Basic_Demos-Sex,feature2:FGC-FGC_PU_Zone\n",
      "feature1:PreInt_EduHx-computerinternet_hoursday,feature2:Basic_Demos-Age\n",
      "feature1:Basic_Demos-Age,feature2:SDS-SDS_Total_T\n",
      "feature1:FGC-FGC_SRR_Zone,feature2:SDS-SDS_Total_T\n",
      "feature1:BIA-BIA_BMC,feature2:Physical-HeartRate\n",
      "feature1:BIA-BIA_Fat,feature2:Physical-BMI\n",
      "feature1:PreInt_EduHx-Season,feature2:Fitness_Endurance-Season\n",
      "feature1:SDS-SDS_Total_T,feature2:Physical-Systolic_BP\n",
      "feature1:Basic_Demos-Sex,feature2:FGC-FGC_PU_Zone\n",
      "feature1: PreInt_EduHx-computerinternet_hoursday, feature2: Basic_Demos-Age\n",
      "feature1: Basic_Demos-Age, feature2: SDS-SDS_Total_T\n",
      "feature1: FGC-FGC_SRR_Zone, feature2: SDS-SDS_Total_T\n",
      "feature1: BIA-BIA_BMC, feature2: Physical-HeartRate\n",
      "feature1: BIA-BIA_Fat, feature2: Physical-BMI\n",
      "feature1: PreInt_EduHx-Season, feature2: Fitness_Endurance-Season\n",
      "feature1: SDS-SDS_Total_T, feature2: Physical-Systolic_BP\n",
      "feature1: Basic_Demos-Sex, feature2: FGC-FGC_PU_Zone\n",
      "feature1: PreInt_EduHx-computerinternet_hoursday, feature2: Basic_Demos-Age\n",
      "feature1: Basic_Demos-Age, feature2: SDS-SDS_Total_T\n",
      "feature1: FGC-FGC_SRR_Zone, feature2: SDS-SDS_Total_T\n",
      "feature1: BIA-BIA_BMC, feature2: Physical-HeartRate\n",
      "feature1: BIA-BIA_Fat, feature2: Physical-BMI\n",
      "feature1: PreInt_EduHx-Season, feature2: Fitness_Endurance-Season\n",
      "feature1: SDS-SDS_Total_T, feature2: Physical-Systolic_BP\n",
      "feature1: Basic_Demos-Sex, feature2: FGC-FGC_PU_Zone\n"
     ]
    }
   ],
   "source": [
    "feature_pairs = [\n",
    "    ('PreInt_EduHx-computerinternet_hoursday', 'Basic_Demos-Age'),\n",
    "    ('Basic_Demos-Age', 'SDS-SDS_Total_T'),\n",
    "    ('FGC-FGC_SRR_Zone', 'SDS-SDS_Total_T'),\n",
    "    ('BIA-BIA_BMC', 'Physical-HeartRate'),\n",
    "    #('Fitness_Endurance-Season', 'Physical-Waist_Circumference'),\n",
    "    ('BIA-BIA_Fat', 'Physical-BMI'),\n",
    "    ('PreInt_EduHx-Season', 'Fitness_Endurance-Season'),\n",
    "    ('SDS-SDS_Total_T', 'Physical-Systolic_BP'),\n",
    "    ('Basic_Demos-Sex', 'FGC-FGC_PU_Zone')\n",
    "]\n",
    "\n",
    "\n",
    "train = create_interaction_features(train, feature_pairs)\n",
    "test = create_interaction_features(test, feature_pairs)\n",
    "train = create_chufa_features(train, feature_pairs)\n",
    "test = create_chufa_features(test, feature_pairs)"
   ]
  },
  {
   "cell_type": "code",
   "execution_count": 15,
   "id": "417e7127",
   "metadata": {
    "execution": {
     "iopub.execute_input": "2024-12-01T03:43:31.574407Z",
     "iopub.status.busy": "2024-12-01T03:43:31.573322Z",
     "iopub.status.idle": "2024-12-01T03:43:31.587556Z",
     "shell.execute_reply": "2024-12-01T03:43:31.586469Z"
    },
    "papermill": {
     "duration": 0.025455,
     "end_time": "2024-12-01T03:43:31.589687",
     "exception": false,
     "start_time": "2024-12-01T03:43:31.564232",
     "status": "completed"
    },
    "tags": []
   },
   "outputs": [],
   "source": [
    "def quadratic_weighted_kappa(y_true, y_pred):\n",
    "    return cohen_kappa_score(y_true, y_pred, weights='quadratic')\n",
    "\n",
    "def threshold_Rounder(oof_non_rounded, thresholds):\n",
    "    return np.where(oof_non_rounded < thresholds[0], 0,\n",
    "                    np.where(oof_non_rounded < thresholds[1], 1,\n",
    "                             np.where(oof_non_rounded < thresholds[2], 2, 3)))\n",
    "\n",
    "def evaluate_predictions(thresholds, y_true, oof_non_rounded):\n",
    "    rounded_p = threshold_Rounder(oof_non_rounded, thresholds)\n",
    "    return -quadratic_weighted_kappa(y_true, rounded_p)\n",
    "\n",
    "def TrainML(model_class, test_data):\n",
    "    \n",
    "    X = train.drop(['sii'], axis=1)\n",
    "    y = train['sii']\n",
    "    test_data = test_data.drop(['sii'], axis=1)\n",
    "    SKF = StratifiedKFold(n_splits=n_splits, shuffle=True, random_state=SEED)\n",
    "    \n",
    "    train_S = []\n",
    "    test_S = []\n",
    "    \n",
    "    oof_non_rounded = np.zeros(len(y), dtype=float) \n",
    "    oof_rounded = np.zeros(len(y), dtype=int) \n",
    "    test_preds = np.zeros((len(test_data), n_splits))\n",
    "\n",
    "    for fold, (train_idx, test_idx) in enumerate(tqdm(SKF.split(X, y), desc=\"Training Folds\", total=n_splits)):\n",
    "        X_train, X_val = X.iloc[train_idx], X.iloc[test_idx]\n",
    "        y_train, y_val = y.iloc[train_idx], y.iloc[test_idx]\n",
    "\n",
    "        model = clone(model_class)\n",
    "        model.fit(X_train, y_train)\n",
    "\n",
    "        y_train_pred = model.predict(X_train)\n",
    "        y_val_pred = model.predict(X_val)\n",
    "\n",
    "        oof_non_rounded[test_idx] = y_val_pred\n",
    "        y_val_pred_rounded = y_val_pred.round(0).astype(int)\n",
    "        oof_rounded[test_idx] = y_val_pred_rounded\n",
    "\n",
    "        train_kappa = quadratic_weighted_kappa(y_train, y_train_pred.round(0).astype(int))\n",
    "        val_kappa = quadratic_weighted_kappa(y_val, y_val_pred_rounded)\n",
    "\n",
    "        train_S.append(train_kappa)\n",
    "        test_S.append(val_kappa)\n",
    "        \n",
    "        test_preds[:, fold] = model.predict(test_data)\n",
    "        \n",
    "        print(f\"Fold {fold+1} - Train QWK: {train_kappa:.4f}, Validation QWK: {val_kappa:.4f}\")\n",
    "        clear_output(wait=True)\n",
    "\n",
    "    print(f\"Mean Train QWK --> {np.mean(train_S):.4f}\")\n",
    "    print(f\"Mean Validation QWK ---> {np.mean(test_S):.4f}\")\n",
    "\n",
    "    KappaOPtimizer = minimize(evaluate_predictions,\n",
    "                              x0=[0.5, 1.5, 2.5], args=(y, oof_non_rounded), \n",
    "                              method='Nelder-Mead') # Nelder-Mead | # Powell\n",
    "    assert KappaOPtimizer.success, \"Optimization did not converge.\"\n",
    "    \n",
    "    oof_tuned = threshold_Rounder(oof_non_rounded, KappaOPtimizer.x)\n",
    "    tKappa = quadratic_weighted_kappa(y, oof_tuned)\n",
    "\n",
    "    print(f\"----> || Optimized QWK SCORE :: {Fore.CYAN}{Style.BRIGHT} {tKappa:.3f}{Style.RESET_ALL}\")\n",
    "\n",
    "    tpm = test_preds.mean(axis=1)\n",
    "    tpTuned = threshold_Rounder(tpm, KappaOPtimizer.x)\n",
    "    \n",
    "    submission = pd.DataFrame({\n",
    "        'id': test_id,\n",
    "        'sii': tpTuned\n",
    "    })\n",
    "\n",
    "\n",
    "    return submission, tKappa"
   ]
  },
  {
   "cell_type": "code",
   "execution_count": 16,
   "id": "ad584d3b",
   "metadata": {
    "execution": {
     "iopub.execute_input": "2024-12-01T03:43:31.607080Z",
     "iopub.status.busy": "2024-12-01T03:43:31.605975Z",
     "iopub.status.idle": "2024-12-01T03:43:31.611406Z",
     "shell.execute_reply": "2024-12-01T03:43:31.610326Z"
    },
    "papermill": {
     "duration": 0.015782,
     "end_time": "2024-12-01T03:43:31.613243",
     "exception": false,
     "start_time": "2024-12-01T03:43:31.597461",
     "status": "completed"
    },
    "tags": []
   },
   "outputs": [],
   "source": [
    "best_params_lgbm = {\n",
    "    'learning_rate': 0.046,\n",
    "    'max_depth': 12,\n",
    "    'num_leaves': 478,\n",
    "    'min_data_in_leaf': 13,\n",
    "    'feature_fraction': 0.893,\n",
    "    'bagging_fraction': 0.784,\n",
    "    'bagging_freq': 4,\n",
    "    'lambda_l1': 10,\n",
    "    'lambda_l2': 0.01\n",
    "}"
   ]
  },
  {
   "cell_type": "code",
   "execution_count": 17,
   "id": "944938d6",
   "metadata": {
    "execution": {
     "iopub.execute_input": "2024-12-01T03:43:31.630204Z",
     "iopub.status.busy": "2024-12-01T03:43:31.629784Z",
     "iopub.status.idle": "2024-12-01T03:43:35.431034Z",
     "shell.execute_reply": "2024-12-01T03:43:35.429824Z"
    },
    "papermill": {
     "duration": 3.812547,
     "end_time": "2024-12-01T03:43:35.433285",
     "exception": false,
     "start_time": "2024-12-01T03:43:31.620738",
     "status": "completed"
    },
    "tags": []
   },
   "outputs": [
    {
     "name": "stderr",
     "output_type": "stream",
     "text": [
      "Training Folds: 100%|██████████| 5/5 [00:03<00:00,  1.44it/s]"
     ]
    },
    {
     "name": "stdout",
     "output_type": "stream",
     "text": [
      "Mean Train QWK --> 0.6558\n",
      "Mean Validation QWK ---> 0.4048\n"
     ]
    },
    {
     "name": "stderr",
     "output_type": "stream",
     "text": [
      "\n"
     ]
    },
    {
     "name": "stdout",
     "output_type": "stream",
     "text": [
      "----> || Optimized QWK SCORE :: \u001b[36m\u001b[1m 0.476\u001b[0m\n"
     ]
    }
   ],
   "source": [
    "from sklearn.preprocessing import LabelEncoder\n",
    "\n",
    "# Function to preprocess data for LightGBM\n",
    "def preprocess_data(df):\n",
    "    # Identify non-numeric columns\n",
    "    non_numeric_cols = df.select_dtypes(include=['object']).columns\n",
    "    \n",
    "    # Apply label encoding to non-numeric columns\n",
    "    label_encoders = {}\n",
    "    for col in non_numeric_cols:\n",
    "        le = LabelEncoder()\n",
    "        df[col] = le.fit_transform(df[col].astype(str))\n",
    "        label_encoders[col] = le\n",
    "    \n",
    "    return df, label_encoders\n",
    "\n",
    "# Apply preprocessing to both train and test data\n",
    "train_preprocessed, train_encoders = preprocess_data(train)\n",
    "test_preprocessed, _ = preprocess_data(test)\n",
    "\n",
    "\n",
    "Light = lgb.LGBMRegressor(**best_params_lgbm, random_state=SEED, verbose=-1)\n",
    "Submission_LGBM, k_lgbm = TrainML(Light, test_preprocessed)"
   ]
  },
  {
   "cell_type": "code",
   "execution_count": 18,
   "id": "3d7bd1ab",
   "metadata": {
    "execution": {
     "iopub.execute_input": "2024-12-01T03:43:35.451331Z",
     "iopub.status.busy": "2024-12-01T03:43:35.450892Z",
     "iopub.status.idle": "2024-12-01T03:43:43.897243Z",
     "shell.execute_reply": "2024-12-01T03:43:43.896049Z"
    },
    "papermill": {
     "duration": 8.45811,
     "end_time": "2024-12-01T03:43:43.899534",
     "exception": false,
     "start_time": "2024-12-01T03:43:35.441424",
     "status": "completed"
    },
    "tags": []
   },
   "outputs": [
    {
     "name": "stdout",
     "output_type": "stream",
     "text": [
      "Optimized Ensemble QWK Score (VotingRegressor): 0.8941\n"
     ]
    }
   ],
   "source": [
    "# Required imports\n",
    "import numpy as np\n",
    "import pandas as pd\n",
    "from lightgbm import LGBMRegressor\n",
    "from xgboost import XGBRegressor\n",
    "from sklearn.experimental import enable_hist_gradient_boosting  # Required for HistGradientBoosting\n",
    "from sklearn.ensemble import HistGradientBoostingRegressor\n",
    "from catboost import CatBoostRegressor\n",
    "from sklearn.model_selection import StratifiedKFold\n",
    "from sklearn.metrics import cohen_kappa_score\n",
    "from sklearn.ensemble import VotingRegressor\n",
    "from scipy.optimize import minimize\n",
    "\n",
    "# Define the individual models\n",
    "lgb_model = LGBMRegressor(**best_params_lgbm, random_state=SEED, verbose=-1)\n",
    "xgb_model = XGBRegressor(n_estimators=200, max_depth=6, learning_rate=0.05, random_state=SEED)\n",
    "hgb_model = HistGradientBoostingRegressor(max_iter=200, max_depth=10, random_state=SEED)\n",
    "cat_model = CatBoostRegressor(iterations=200, learning_rate=0.05, depth=6, verbose=0, random_state=SEED)\n",
    "\n",
    "# Create a VotingRegressor\n",
    "voting_regressor = VotingRegressor([\n",
    "    ('lgb', lgb_model),\n",
    "    ('xgb', xgb_model),\n",
    "    ('hgb', hgb_model),\n",
    "    ('cat', cat_model)\n",
    "])\n",
    "\n",
    "# Prepare the data\n",
    "X = train_preprocessed.drop(['sii'], axis=1)\n",
    "y = train_preprocessed['sii']\n",
    "test_data = test_preprocessed.drop(['sii'], axis=1)\n",
    "\n",
    "# Train the VotingRegressor\n",
    "voting_regressor.fit(X, y)\n",
    "\n",
    "# Predict on train and test data\n",
    "voting_oof_preds = voting_regressor.predict(X)\n",
    "voting_test_preds = voting_regressor.predict(test_data)\n",
    "\n",
    "# Optimize thresholds for the ensemble\n",
    "def evaluate_predictions(thresholds, y_true, preds):\n",
    "    rounded_preds = np.digitize(preds, bins=thresholds)\n",
    "    return -cohen_kappa_score(y_true, rounded_preds, weights='quadratic')\n",
    "\n",
    "opt_result = minimize(evaluate_predictions, x0=[0.5, 1.5, 2.5],\n",
    "                      args=(y, voting_oof_preds),\n",
    "                      method='Nelder-Mead')\n",
    "\n",
    "assert opt_result.success, \"Threshold optimization failed for ensemble.\"\n",
    "optimized_thresholds = opt_result.x\n",
    "\n",
    "# Apply optimized thresholds\n",
    "voting_oof_rounded = np.digitize(voting_oof_preds, bins=optimized_thresholds)\n",
    "voting_test_rounded = np.digitize(voting_test_preds, bins=optimized_thresholds)\n",
    "\n",
    "# Evaluate optimized ensemble\n",
    "optimized_ensemble_score = cohen_kappa_score(y, voting_oof_rounded, weights='quadratic')\n",
    "print(f\"Optimized Ensemble QWK Score (VotingRegressor): {optimized_ensemble_score:.4f}\")\n"
   ]
  },
  {
   "cell_type": "code",
   "execution_count": 19,
   "id": "f90c0da5",
   "metadata": {
    "execution": {
     "iopub.execute_input": "2024-12-01T03:43:43.916935Z",
     "iopub.status.busy": "2024-12-01T03:43:43.916547Z",
     "iopub.status.idle": "2024-12-01T03:44:23.250424Z",
     "shell.execute_reply": "2024-12-01T03:44:23.249212Z"
    },
    "papermill": {
     "duration": 39.345263,
     "end_time": "2024-12-01T03:44:23.252751",
     "exception": false,
     "start_time": "2024-12-01T03:43:43.907488",
     "status": "completed"
    },
    "tags": []
   },
   "outputs": [
    {
     "name": "stderr",
     "output_type": "stream",
     "text": [
      "Training Folds: 100%|██████████| 5/5 [00:39<00:00,  7.81s/it]"
     ]
    },
    {
     "name": "stdout",
     "output_type": "stream",
     "text": [
      "Mean Train QWK --> 0.8586\n",
      "Mean Validation QWK ---> 0.4202\n"
     ]
    },
    {
     "name": "stderr",
     "output_type": "stream",
     "text": [
      "\n"
     ]
    },
    {
     "name": "stdout",
     "output_type": "stream",
     "text": [
      "----> || Optimized QWK SCORE :: \u001b[36m\u001b[1m 0.465\u001b[0m\n"
     ]
    }
   ],
   "source": [
    "Submission_ensemble, k_ensemble = TrainML(voting_regressor, test_preprocessed)"
   ]
  },
  {
   "cell_type": "code",
   "execution_count": 20,
   "id": "411241b3",
   "metadata": {
    "execution": {
     "iopub.execute_input": "2024-12-01T03:44:23.271560Z",
     "iopub.status.busy": "2024-12-01T03:44:23.271156Z",
     "iopub.status.idle": "2024-12-01T03:44:23.282136Z",
     "shell.execute_reply": "2024-12-01T03:44:23.280851Z"
    },
    "papermill": {
     "duration": 0.023615,
     "end_time": "2024-12-01T03:44:23.284909",
     "exception": false,
     "start_time": "2024-12-01T03:44:23.261294",
     "status": "completed"
    },
    "tags": []
   },
   "outputs": [],
   "source": [
    "Submission_ensemble.to_csv('submission.csv', index=False)"
   ]
  }
 ],
 "metadata": {
  "kaggle": {
   "accelerator": "none",
   "dataSources": [
    {
     "databundleVersionId": 9643020,
     "sourceId": 81933,
     "sourceType": "competition"
    }
   ],
   "dockerImageVersionId": 30786,
   "isGpuEnabled": false,
   "isInternetEnabled": false,
   "language": "python",
   "sourceType": "notebook"
  },
  "kernelspec": {
   "display_name": "Python 3",
   "language": "python",
   "name": "python3"
  },
  "language_info": {
   "codemirror_mode": {
    "name": "ipython",
    "version": 3
   },
   "file_extension": ".py",
   "mimetype": "text/x-python",
   "name": "python",
   "nbconvert_exporter": "python",
   "pygments_lexer": "ipython3",
   "version": "3.10.14"
  },
  "papermill": {
   "default_parameters": {},
   "duration": 210.698917,
   "end_time": "2024-12-01T03:44:24.216773",
   "environment_variables": {},
   "exception": null,
   "input_path": "__notebook__.ipynb",
   "output_path": "__notebook__.ipynb",
   "parameters": {},
   "start_time": "2024-12-01T03:40:53.517856",
   "version": "2.6.0"
  }
 },
 "nbformat": 4,
 "nbformat_minor": 5
}
