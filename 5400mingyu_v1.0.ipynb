{
 "cells": [
  {
   "cell_type": "code",
   "execution_count": 22,
   "id": "ebe83dac-2330-414e-9794-f6ac3b81a982",
   "metadata": {},
   "outputs": [
    {
     "name": "stdout",
     "output_type": "stream",
     "text": [
      "Collecting xgboost\n",
      "  Downloading xgboost-2.1.2-py3-none-win_amd64.whl.metadata (2.1 kB)\n",
      "Requirement already satisfied: numpy in c:\\users\\mingy\\anaconda3\\lib\\site-packages (from xgboost) (1.26.4)\n",
      "Requirement already satisfied: scipy in c:\\users\\mingy\\anaconda3\\lib\\site-packages (from xgboost) (1.13.1)\n",
      "Downloading xgboost-2.1.2-py3-none-win_amd64.whl (124.9 MB)\n",
      "   ---------------------------------------- 0.0/124.9 MB ? eta -:--:--\n",
      "   ---------------------------------------- 0.3/124.9 MB ? eta -:--:--\n",
      "   - -------------------------------------- 4.5/124.9 MB 17.9 MB/s eta 0:00:07\n",
      "   --- ------------------------------------ 12.3/124.9 MB 26.6 MB/s eta 0:00:05\n",
      "   ---- ----------------------------------- 13.9/124.9 MB 21.3 MB/s eta 0:00:06\n",
      "   ----- ---------------------------------- 15.7/124.9 MB 17.7 MB/s eta 0:00:07\n",
      "   ----- ---------------------------------- 17.8/124.9 MB 16.5 MB/s eta 0:00:07\n",
      "   ------ --------------------------------- 19.7/124.9 MB 15.3 MB/s eta 0:00:07\n",
      "   ------- -------------------------------- 23.3/124.9 MB 15.7 MB/s eta 0:00:07\n",
      "   -------- ------------------------------- 26.7/124.9 MB 15.7 MB/s eta 0:00:07\n",
      "   --------- ------------------------------ 30.1/124.9 MB 15.8 MB/s eta 0:00:06\n",
      "   ----------- ---------------------------- 34.9/124.9 MB 16.4 MB/s eta 0:00:06\n",
      "   ------------- -------------------------- 42.7/124.9 MB 18.4 MB/s eta 0:00:05\n",
      "   ----------------- ---------------------- 54.5/124.9 MB 21.6 MB/s eta 0:00:04\n",
      "   -------------------- ------------------- 65.3/124.9 MB 23.9 MB/s eta 0:00:03\n",
      "   ------------------------ --------------- 75.0/124.9 MB 25.6 MB/s eta 0:00:02\n",
      "   --------------------------- ------------ 84.9/124.9 MB 27.1 MB/s eta 0:00:02\n",
      "   ------------------------------ --------- 94.9/124.9 MB 28.3 MB/s eta 0:00:02\n",
      "   -------------------------------- ------ 104.6/124.9 MB 29.4 MB/s eta 0:00:01\n",
      "   ----------------------------------- --- 113.8/124.9 MB 30.3 MB/s eta 0:00:01\n",
      "   --------------------------------------  123.7/124.9 MB 31.2 MB/s eta 0:00:01\n",
      "   --------------------------------------- 124.9/124.9 MB 30.3 MB/s eta 0:00:00\n",
      "Installing collected packages: xgboost\n",
      "Successfully installed xgboost-2.1.2\n"
     ]
    }
   ],
   "source": [
    "!pip install xgboost"
   ]
  },
  {
   "cell_type": "code",
   "execution_count": 32,
   "id": "a03edd34-04c8-4439-aba9-01af18ac91f8",
   "metadata": {},
   "outputs": [],
   "source": [
    "import numpy as np\n",
    "import polars as pl\n",
    "import pandas as pd\n",
    "from sklearn.base import clone\n",
    "from copy import deepcopy\n",
    "import optuna\n",
    "from scipy.optimize import minimize\n",
    "import matplotlib.pyplot as plt\n",
    "import missingno as msno\n",
    "import re\n",
    "from colorama import Fore, Style\n",
    "\n",
    "from tqdm import tqdm\n",
    "from IPython.display import clear_output\n",
    "\n",
    "import warnings\n",
    "warnings.filterwarnings('ignore')\n",
    "pd.options.display.max_columns = None\n",
    "\n",
    "import lightgbm as lgb\n",
    "from catboost import CatBoostRegressor, CatBoostClassifier\n",
    "from xgboost import XGBRegressor\n",
    "from catboost import CatBoostRegressor\n",
    "import xgboost as xgb\n",
    "from sklearn.ensemble import VotingRegressor\n",
    "from sklearn.model_selection import *\n",
    "from sklearn.metrics import *\n",
    "\n",
    "SEED = 42\n",
    "n_splits = 5"
   ]
  },
  {
   "cell_type": "code",
   "execution_count": 396,
   "id": "24912571-3d38-4f09-b571-cc29aa5e38ef",
   "metadata": {},
   "outputs": [],
   "source": [
    "full = pd.read_csv('C:\\\\Users\\\\mingy\\\\OneDrive - University of Iowa\\\\Desktop\\\\STAT5400 PC\\\\project\\\\train.csv')\n",
    "sample =pd.read_csv('C:\\\\Users\\\\mingy\\\\OneDrive - University of Iowa\\\\Desktop\\\\STAT5400 PC\\\\project\\\\sample_submission.csv')\n",
    "\n",
    "full_removed = full.dropna(subset=['sii'])\n",
    "\n",
    "train, test = train_test_split(full_removed, test_size=0.15, random_state=42)\n",
    "\n",
    "# Save or display the train and test data\n",
    "output_path = r'C:\\Users\\mingy\\OneDrive - University of Iowa\\Desktop\\STAT5400 PC\\project'\n",
    "\n",
    "# Save the datasets to the specified folder\n",
    "full_removed.to_csv(f'{output_path}\\\\full_data.csv', index=False)\n",
    "train.to_csv(f'{output_path}\\\\train_data.csv', index=False)\n",
    "test.to_csv(f'{output_path}\\\\test_data.csv', index=False)"
   ]
  },
  {
   "cell_type": "code",
   "execution_count": 397,
   "id": "8a59ea30-c14b-48d7-b58a-285cc851f5d7",
   "metadata": {},
   "outputs": [],
   "source": [
    "test_id = test['id']"
   ]
  },
  {
   "cell_type": "code",
   "execution_count": 400,
   "id": "85c41b05-5502-4a7d-80ca-1e755019bfc4",
   "metadata": {},
   "outputs": [],
   "source": [
    "train = train.drop('id',axis=1)\n",
    "test = test.drop('id',axis=1)\n",
    "\n",
    "featuresCols = ['Basic_Demos-Enroll_Season', 'Basic_Demos-Age', 'Basic_Demos-Sex',\n",
    "       'CGAS-Season', 'CGAS-CGAS_Score', 'Physical-Season', 'Physical-BMI',\n",
    "       'Physical-Height', 'Physical-Weight', 'Physical-Waist_Circumference',\n",
    "       'Physical-Diastolic_BP', 'Physical-HeartRate', 'Physical-Systolic_BP',\n",
    "       'Fitness_Endurance-Season', 'Fitness_Endurance-Max_Stage',\n",
    "       'Fitness_Endurance-Time_Mins', 'Fitness_Endurance-Time_Sec',\n",
    "       'FGC-Season', 'FGC-FGC_CU', 'FGC-FGC_CU_Zone', 'FGC-FGC_GSND',\n",
    "       'FGC-FGC_GSND_Zone', 'FGC-FGC_GSD', 'FGC-FGC_GSD_Zone', 'FGC-FGC_PU',\n",
    "       'FGC-FGC_PU_Zone', 'FGC-FGC_SRL', 'FGC-FGC_SRL_Zone', 'FGC-FGC_SRR',\n",
    "       'FGC-FGC_SRR_Zone', 'FGC-FGC_TL', 'FGC-FGC_TL_Zone', 'BIA-Season',\n",
    "       'BIA-BIA_Activity_Level_num', 'BIA-BIA_BMC', 'BIA-BIA_BMI',\n",
    "       'BIA-BIA_BMR', 'BIA-BIA_DEE', 'BIA-BIA_ECW', 'BIA-BIA_FFM',\n",
    "       'BIA-BIA_FFMI', 'BIA-BIA_FMI', 'BIA-BIA_Fat', 'BIA-BIA_Frame_num',\n",
    "       'BIA-BIA_ICW', 'BIA-BIA_LDM', 'BIA-BIA_LST', 'BIA-BIA_SMM',\n",
    "       'BIA-BIA_TBW', 'PAQ_A-Season', 'PAQ_A-PAQ_A_Total', 'PAQ_C-Season',\n",
    "       'PAQ_C-PAQ_C_Total', 'SDS-Season', 'SDS-SDS_Total_Raw',\n",
    "       'SDS-SDS_Total_T', 'PreInt_EduHx-Season',\n",
    "       'PreInt_EduHx-computerinternet_hoursday','sii']\n",
    "\n",
    "train = train[featuresCols]\n",
    "#train = train.dropna(subset='sii')\n",
    "\n",
    "cat_c = ['Basic_Demos-Enroll_Season','CGAS-Season','Physical-Season','Fitness_Endurance-Season','FGC-Season',\n",
    " 'BIA-Season','PAQ_A-Season','PAQ_C-Season','SDS-Season','PreInt_EduHx-Season']\n",
    "\n",
    "def update(df):\n",
    "    global cat_c\n",
    "    for c in cat_c : \n",
    "        df[c] = df[c].fillna('Missing')\n",
    "        df[c] = df[c].astype('category')\n",
    "        \n",
    "    return df\n",
    "\n",
    "def create_mapping(column, dataset):\n",
    "    unique_values = dataset[column].unique()\n",
    "    return {value: idx for idx, value in enumerate(unique_values)}\n",
    "\n",
    "    \n",
    "for col in cat_c:\n",
    "    all_values = pd.concat([train[col], test[col]]).unique()\n",
    "    mapping = {value: idx for idx, value in enumerate(all_values)}\n",
    "\n",
    "    train[col] = train[col].replace(mapping).astype(int)\n",
    "    test[col] = test[col].replace(mapping).astype(int)"
   ]
  },
  {
   "cell_type": "code",
   "execution_count": 402,
   "id": "749535ab-cb5c-47e1-9ed2-fb54942ec02b",
   "metadata": {},
   "outputs": [
    {
     "name": "stdout",
     "output_type": "stream",
     "text": [
      "开始填补特征: CGAS-CGAS_Score\n",
      "开始填补特征: Physical-BMI\n",
      "开始填补特征: Physical-Height\n",
      "开始填补特征: Physical-Weight\n",
      "开始填补特征: Physical-Diastolic_BP\n",
      "开始填补特征: Physical-HeartRate\n",
      "开始填补特征: Physical-Systolic_BP\n",
      "开始填补特征: SDS-SDS_Total_Raw\n",
      "开始填补特征: SDS-SDS_Total_T\n",
      "开始填补特征: PreInt_EduHx-computerinternet_hoursday\n"
     ]
    }
   ],
   "source": [
    "import pandas as pd\n",
    "import numpy as np\n",
    "from lightgbm import LGBMRegressor, LGBMClassifier\n",
    "\n",
    "def fill_missing_with_lgbm(train, test, target_column, n_estimators=1000, random_state=42):\n",
    "    train = train.copy()\n",
    "    test = test.copy()\n",
    "\n",
    "    # Determine the model type\n",
    "    if train[target_column].dtype == 'object' or target_column in cat_c:\n",
    "        model_type = 'classification'\n",
    "    else:\n",
    "        model_type = 'regression'\n",
    "\n",
    "    # Add a flag to differentiate train and test\n",
    "    train['is_train'] = 1\n",
    "    test['is_train'] = 0\n",
    "\n",
    "    # Combine train and test\n",
    "    df = pd.concat([train, test], ignore_index=True)\n",
    "\n",
    "    # Identify features excluding the target column and 'is_train'\n",
    "    features_columns = [col for col in df.columns if col not in [target_column, 'is_train']]\n",
    "\n",
    "    # Drop non-numeric columns from features\n",
    "    numeric_features = df[features_columns].select_dtypes(include=['number']).columns.tolist()\n",
    "    features_columns = numeric_features\n",
    "\n",
    "    # Split into rows with and without missing values\n",
    "    df_missing = df[df[target_column].isnull()]\n",
    "    df_not_missing = df[~df[target_column].isnull()]\n",
    "\n",
    "    if df_missing.empty or df_not_missing.empty:\n",
    "        print(f\"No missing data in '{target_column}' column or all data are missing.\")\n",
    "        return train.drop(columns=['is_train']), test.drop(columns=['is_train'])\n",
    "\n",
    "    # Prepare training data for LightGBM\n",
    "    X_train = df_not_missing[features_columns]\n",
    "    y_train = df_not_missing[target_column]\n",
    "\n",
    "    # Prepare model\n",
    "    if model_type == 'regression':\n",
    "        model = LGBMRegressor(n_estimators=n_estimators, random_state=random_state)\n",
    "    else:\n",
    "        model = LGBMClassifier(n_estimators=n_estimators, random_state=random_state)\n",
    "\n",
    "    # Fit the model\n",
    "    model.fit(X_train, y_train)\n",
    "\n",
    "    # Predict missing values\n",
    "    X_pred = df_missing[features_columns]\n",
    "    y_pred = model.predict(X_pred)\n",
    "\n",
    "    # Fill missing values\n",
    "    df.loc[df[target_column].isnull(), target_column] = y_pred\n",
    "\n",
    "    # Split back into train and test\n",
    "    train_filled = df[df['is_train'] == 1].drop(columns=['is_train'])\n",
    "    test_filled = df[df['is_train'] == 0].drop(columns=['is_train'])\n",
    "\n",
    "    return train_filled, test_filled\n",
    "\n",
    "# List of columns to fill\n",
    "tianbu_cols = [\n",
    "    'CGAS-CGAS_Score', 'Physical-BMI', 'Physical-Height', 'Physical-Weight',\n",
    "    'Physical-Diastolic_BP', 'Physical-HeartRate', 'Physical-Systolic_BP',\n",
    "    'SDS-SDS_Total_Raw', 'SDS-SDS_Total_T', 'PreInt_EduHx-computerinternet_hoursday'\n",
    "]\n",
    "\n",
    "# Define categorical columns if necessary\n",
    "cat_c = []  # Replace with a list of categorical columns, if applicable\n",
    "\n",
    "# Loop through columns to fill missing values\n",
    "for col in tianbu_cols:\n",
    "    print(f\"开始填补特征: {col}\")\n",
    "    train, test = fill_missing_with_lgbm(train, test, col)\n"
   ]
  },
  {
   "cell_type": "code",
   "execution_count": 403,
   "id": "268f272f-68b6-4854-bad2-9d9bb3dea997",
   "metadata": {},
   "outputs": [
    {
     "name": "stdout",
     "output_type": "stream",
     "text": [
      "开始填补特征：FGC-FGC_CU\n",
      "开始填补特征：FGC-FGC_CU_Zone\n",
      "开始填补特征：FGC-FGC_GSND\n",
      "开始填补特征：FGC-FGC_GSND_Zone\n",
      "开始填补特征：FGC-FGC_GSD\n",
      "开始填补特征：FGC-FGC_GSD_Zone\n",
      "开始填补特征：FGC-FGC_PU\n",
      "开始填补特征：FGC-FGC_PU_Zone\n",
      "开始填补特征：FGC-FGC_SRL\n",
      "开始填补特征：FGC-FGC_SRL_Zone\n",
      "开始填补特征：FGC-FGC_SRR\n",
      "开始填补特征：FGC-FGC_SRR_Zone\n",
      "开始填补特征：FGC-FGC_TL\n",
      "开始填补特征：FGC-FGC_TL_Zone\n"
     ]
    }
   ],
   "source": [
    "FGC_cols = [\n",
    "  'FGC-FGC_CU',\n",
    "  'FGC-FGC_CU_Zone',\n",
    "  'FGC-FGC_GSND',\n",
    "  'FGC-FGC_GSND_Zone',\n",
    "  'FGC-FGC_GSD',\n",
    "  'FGC-FGC_GSD_Zone',\n",
    "  'FGC-FGC_PU',\n",
    "  'FGC-FGC_PU_Zone',\n",
    "  'FGC-FGC_SRL',\n",
    "  'FGC-FGC_SRL_Zone',\n",
    "  'FGC-FGC_SRR',\n",
    "  'FGC-FGC_SRR_Zone',\n",
    "  'FGC-FGC_TL',\n",
    "  'FGC-FGC_TL_Zone'\n",
    "]\n",
    "for col in FGC_cols:\n",
    "    print(\"开始填补特征：\"+ col)\n",
    "    train, test = fill_missing_with_lgbm(train, test, col)"
   ]
  },
  {
   "cell_type": "code",
   "execution_count": 404,
   "id": "e4fd2da3-02cf-4b6b-a638-d1995ae22604",
   "metadata": {},
   "outputs": [
    {
     "name": "stdout",
     "output_type": "stream",
     "text": [
      "开始填补特征：BIA-BIA_TBW\n",
      "开始填补特征：BIA-BIA_TBW\n",
      "No missing data in 'BIA-BIA_TBW' column or all data are missing.\n",
      "开始填补特征：BIA-BIA_DEE\n",
      "开始填补特征：BIA-BIA_BMC\n",
      "开始填补特征：BIA-BIA_Fat\n",
      "开始填补特征：BIA-BIA_BMI\n"
     ]
    }
   ],
   "source": [
    "BIA = [\"BIA-BIA_TBW\",\"BIA-BIA_TBW\",\"BIA-BIA_DEE\",\"BIA-BIA_BMC\",\"BIA-BIA_Fat\", \"BIA-BIA_BMI\",]\n",
    "for col in BIA:\n",
    "    print(\"开始填补特征：\"+ col)\n",
    "    train, test = fill_missing_with_lgbm(train, test, col)"
   ]
  },
  {
   "cell_type": "code",
   "execution_count": 405,
   "id": "cc2667fa-ea1d-4d7b-ae24-0cb28be89e33",
   "metadata": {},
   "outputs": [],
   "source": [
    "train = update(train)\n",
    "test = update(test)"
   ]
  },
  {
   "cell_type": "code",
   "execution_count": 406,
   "id": "2c1be625-29e3-4f03-ae3a-dc1528e65dcc",
   "metadata": {},
   "outputs": [
    {
     "data": {
      "text/plain": [
       "<Axes: >"
      ]
     },
     "execution_count": 406,
     "metadata": {},
     "output_type": "execute_result"
    },
    {
     "data": {
      "image/png": "[encoded data removed]",
      "text/plain": [
       "<Figure size 640x480 with 1 Axes>"
      ]
     },
     "metadata": {},
     "output_type": "display_data"
    }
   ],
   "source": [
    "train[\"sii\"].hist()"
   ]
  },
  {
   "cell_type": "code",
   "execution_count": 407,
   "id": "a81eb52f-03ec-4b36-936f-e5561e3889bc",
   "metadata": {},
   "outputs": [
    {
     "data": {
      "text/plain": [
       "Basic_Demos-Enroll_Season      0.0\n",
       "Basic_Demos-Age                0.0\n",
       "Basic_Demos-Sex                0.0\n",
       "CGAS-Season                    0.0\n",
       "CGAS-CGAS_Score                0.0\n",
       "                             ...  \n",
       "PCIAT-PCIAT_17               100.0\n",
       "PCIAT-PCIAT_18               100.0\n",
       "PCIAT-PCIAT_19               100.0\n",
       "PCIAT-PCIAT_20               100.0\n",
       "PCIAT-PCIAT_Total            100.0\n",
       "Length: 81, dtype: float64"
      ]
     },
     "execution_count": 407,
     "metadata": {},
     "output_type": "execute_result"
    }
   ],
   "source": [
    "missing_percent_train = train.isnull().mean() * 100\n",
    "missing_percent_train"
   ]
  },
  {
   "cell_type": "code",
   "execution_count": 408,
   "id": "bf77c75d-3918-42c7-b8e5-8635e78501da",
   "metadata": {},
   "outputs": [],
   "source": [
    "# interation imputation\n",
    "\n",
    "def create_interaction_features(df, feature_pairs):\n",
    "    global cat_c\n",
    "    for feature1, feature2 in feature_pairs:\n",
    "        if(feature1 not in cat_c or feature2 not in cat_c):\n",
    "            print(\"feature1:\" + feature1 + \",feature2:\" + feature2)\n",
    "            new_feature_name = f\"{feature1}_x_{feature2}\"\n",
    "            df[new_feature_name] = df[feature1] * df[feature2]\n",
    "    return df\n",
    "\n",
    "def create_chufa_features(df, feature_pairs):\n",
    "    global cat_c\n",
    "    for feature1, feature2 in feature_pairs:\n",
    "        if feature1 not in cat_c or feature2 not in cat_c:\n",
    "            print(f\"feature1: {feature1}, feature2: {feature2}\")\n",
    "            \n",
    "            # 构造 A/B 特征，先进行除法运算，但在除法之前控制出现0或NaN的情况\n",
    "            new_feature_name1 = f\"{feature1}_div_{feature2}\"\n",
    "            df[new_feature_name1] = df[feature1] / df[feature2]\n",
    "            \n",
    "            # 当A或B中有0或NaN时保留NaN\n",
    "            df[new_feature_name1] = df[new_feature_name1].mask((df[feature1] == 0) | (df[feature2] == 0) | \n",
    "                                                               df[feature1].isna() | df[feature2].isna())\n",
    "            \n",
    "            # 构造 B/A 特征，类似方式处理\n",
    "            new_feature_name2 = f\"{feature2}_div_{feature1}\"\n",
    "            df[new_feature_name2] = df[feature2] / df[feature1]\n",
    "            df[new_feature_name2] = df[new_feature_name2].mask((df[feature1] == 0) | (df[feature2] == 0) | \n",
    "                                                               df[feature1].isna() | df[feature2].isna())\n",
    "\n",
    "    return df"
   ]
  },
  {
   "cell_type": "code",
   "execution_count": 409,
   "id": "5acacf91-0f52-4cf8-b9ad-428384a251c6",
   "metadata": {},
   "outputs": [
    {
     "name": "stdout",
     "output_type": "stream",
     "text": [
      "feature1:PreInt_EduHx-computerinternet_hoursday,feature2:Basic_Demos-Age\n",
      "feature1:Basic_Demos-Age,feature2:SDS-SDS_Total_T\n",
      "feature1:FGC-FGC_SRR_Zone,feature2:SDS-SDS_Total_T\n",
      "feature1:BIA-BIA_BMC,feature2:Physical-HeartRate\n",
      "feature1:BIA-BIA_Fat,feature2:Physical-BMI\n",
      "feature1:PreInt_EduHx-Season,feature2:Fitness_Endurance-Season\n",
      "feature1:SDS-SDS_Total_T,feature2:Physical-Systolic_BP\n",
      "feature1:Basic_Demos-Sex,feature2:FGC-FGC_PU_Zone\n",
      "feature1:PreInt_EduHx-computerinternet_hoursday,feature2:Basic_Demos-Age\n",
      "feature1:Basic_Demos-Age,feature2:SDS-SDS_Total_T\n",
      "feature1:FGC-FGC_SRR_Zone,feature2:SDS-SDS_Total_T\n",
      "feature1:BIA-BIA_BMC,feature2:Physical-HeartRate\n",
      "feature1:BIA-BIA_Fat,feature2:Physical-BMI\n",
      "feature1:PreInt_EduHx-Season,feature2:Fitness_Endurance-Season\n",
      "feature1:SDS-SDS_Total_T,feature2:Physical-Systolic_BP\n",
      "feature1:Basic_Demos-Sex,feature2:FGC-FGC_PU_Zone\n",
      "feature1: PreInt_EduHx-computerinternet_hoursday, feature2: Basic_Demos-Age\n",
      "feature1: Basic_Demos-Age, feature2: SDS-SDS_Total_T\n",
      "feature1: FGC-FGC_SRR_Zone, feature2: SDS-SDS_Total_T\n",
      "feature1: BIA-BIA_BMC, feature2: Physical-HeartRate\n",
      "feature1: BIA-BIA_Fat, feature2: Physical-BMI\n",
      "feature1: PreInt_EduHx-Season, feature2: Fitness_Endurance-Season\n",
      "feature1: SDS-SDS_Total_T, feature2: Physical-Systolic_BP\n",
      "feature1: Basic_Demos-Sex, feature2: FGC-FGC_PU_Zone\n",
      "feature1: PreInt_EduHx-computerinternet_hoursday, feature2: Basic_Demos-Age\n",
      "feature1: Basic_Demos-Age, feature2: SDS-SDS_Total_T\n",
      "feature1: FGC-FGC_SRR_Zone, feature2: SDS-SDS_Total_T\n",
      "feature1: BIA-BIA_BMC, feature2: Physical-HeartRate\n",
      "feature1: BIA-BIA_Fat, feature2: Physical-BMI\n",
      "feature1: PreInt_EduHx-Season, feature2: Fitness_Endurance-Season\n",
      "feature1: SDS-SDS_Total_T, feature2: Physical-Systolic_BP\n",
      "feature1: Basic_Demos-Sex, feature2: FGC-FGC_PU_Zone\n"
     ]
    }
   ],
   "source": [
    "feature_pairs = [\n",
    "    ('PreInt_EduHx-computerinternet_hoursday', 'Basic_Demos-Age'),\n",
    "    ('Basic_Demos-Age', 'SDS-SDS_Total_T'),\n",
    "    ('FGC-FGC_SRR_Zone', 'SDS-SDS_Total_T'),\n",
    "    ('BIA-BIA_BMC', 'Physical-HeartRate'),\n",
    "    #('Fitness_Endurance-Season', 'Physical-Waist_Circumference'),\n",
    "    ('BIA-BIA_Fat', 'Physical-BMI'),\n",
    "    ('PreInt_EduHx-Season', 'Fitness_Endurance-Season'),\n",
    "    ('SDS-SDS_Total_T', 'Physical-Systolic_BP'),\n",
    "    ('Basic_Demos-Sex', 'FGC-FGC_PU_Zone')\n",
    "]\n",
    "\n",
    "\n",
    "train = create_interaction_features(train, feature_pairs)\n",
    "test = create_interaction_features(test, feature_pairs)\n",
    "train = create_chufa_features(train, feature_pairs)\n",
    "test = create_chufa_features(test, feature_pairs)"
   ]
  },
  {
   "cell_type": "code",
   "execution_count": 410,
   "id": "e6af438e-1a50-4fa4-a81a-11a2d806390e",
   "metadata": {},
   "outputs": [],
   "source": [
    "def quadratic_weighted_kappa(y_true, y_pred):\n",
    "    return cohen_kappa_score(y_true, y_pred, weights='quadratic')\n",
    "\n",
    "def threshold_Rounder(oof_non_rounded, thresholds):\n",
    "    return np.where(oof_non_rounded < thresholds[0], 0,\n",
    "                    np.where(oof_non_rounded < thresholds[1], 1,\n",
    "                             np.where(oof_non_rounded < thresholds[2], 2, 3)))\n",
    "\n",
    "def evaluate_predictions(thresholds, y_true, oof_non_rounded):\n",
    "    rounded_p = threshold_Rounder(oof_non_rounded, thresholds)\n",
    "    return -quadratic_weighted_kappa(y_true, rounded_p)\n",
    "\n",
    "def TrainML(model_class, test_data):\n",
    "    \n",
    "    X = train.drop(['sii'], axis=1)\n",
    "    y = train['sii']\n",
    "    test_data = test_data.drop(['sii'], axis=1)\n",
    "    SKF = StratifiedKFold(n_splits=n_splits, shuffle=True, random_state=SEED)\n",
    "    \n",
    "    train_S = []\n",
    "    test_S = []\n",
    "    \n",
    "    oof_non_rounded = np.zeros(len(y), dtype=float) \n",
    "    oof_rounded = np.zeros(len(y), dtype=int) \n",
    "    test_preds = np.zeros((len(test_data), n_splits))\n",
    "\n",
    "    for fold, (train_idx, test_idx) in enumerate(tqdm(SKF.split(X, y), desc=\"Training Folds\", total=n_splits)):\n",
    "        X_train, X_val = X.iloc[train_idx], X.iloc[test_idx]\n",
    "        y_train, y_val = y.iloc[train_idx], y.iloc[test_idx]\n",
    "\n",
    "        model = clone(model_class)\n",
    "        model.fit(X_train, y_train)\n",
    "\n",
    "        y_train_pred = model.predict(X_train)\n",
    "        y_val_pred = model.predict(X_val)\n",
    "\n",
    "        oof_non_rounded[test_idx] = y_val_pred\n",
    "        y_val_pred_rounded = y_val_pred.round(0).astype(int)\n",
    "        oof_rounded[test_idx] = y_val_pred_rounded\n",
    "\n",
    "        train_kappa = quadratic_weighted_kappa(y_train, y_train_pred.round(0).astype(int))\n",
    "        val_kappa = quadratic_weighted_kappa(y_val, y_val_pred_rounded)\n",
    "\n",
    "        train_S.append(train_kappa)\n",
    "        test_S.append(val_kappa)\n",
    "        \n",
    "        test_preds[:, fold] = model.predict(test_data)\n",
    "        \n",
    "        print(f\"Fold {fold+1} - Train QWK: {train_kappa:.4f}, Validation QWK: {val_kappa:.4f}\")\n",
    "        clear_output(wait=True)\n",
    "\n",
    "    print(f\"Mean Train QWK --> {np.mean(train_S):.4f}\")\n",
    "    print(f\"Mean Validation QWK ---> {np.mean(test_S):.4f}\")\n",
    "\n",
    "    KappaOPtimizer = minimize(evaluate_predictions,\n",
    "                              x0=[0.5, 1.5, 2.5], args=(y, oof_non_rounded), \n",
    "                              method='Nelder-Mead') # Nelder-Mead | # Powell\n",
    "    assert KappaOPtimizer.success, \"Optimization did not converge.\"\n",
    "    \n",
    "    oof_tuned = threshold_Rounder(oof_non_rounded, KappaOPtimizer.x)\n",
    "    tKappa = quadratic_weighted_kappa(y, oof_tuned)\n",
    "\n",
    "    print(f\"----> || Optimized QWK SCORE :: {Fore.CYAN}{Style.BRIGHT} {tKappa:.3f}{Style.RESET_ALL}\")\n",
    "\n",
    "    tpm = test_preds.mean(axis=1)\n",
    "    tpTuned = threshold_Rounder(tpm, KappaOPtimizer.x)\n",
    "    \n",
    "    submission = pd.DataFrame({\n",
    "        'id': test_id,\n",
    "        'sii': tpTuned\n",
    "    })\n",
    "\n",
    "\n",
    "    return submission, tKappa"
   ]
  },
  {
   "cell_type": "code",
   "execution_count": 411,
   "id": "3c2c8ca8-d315-4093-af0a-84ba54db5485",
   "metadata": {},
   "outputs": [],
   "source": [
    "best_params_lgbm = {\n",
    "    'learning_rate': 0.046,\n",
    "    'max_depth': 12,\n",
    "    'num_leaves': 478,\n",
    "    'min_data_in_leaf': 13,\n",
    "    'feature_fraction': 0.893,\n",
    "    'bagging_fraction': 0.784,\n",
    "    'bagging_freq': 4,\n",
    "    'lambda_l1': 10,\n",
    "    'lambda_l2': 0.01\n",
    "}"
   ]
  },
  {
   "cell_type": "code",
   "execution_count": 412,
   "id": "1a4731cb-48eb-46c3-8899-0e07909f48e0",
   "metadata": {},
   "outputs": [
    {
     "name": "stderr",
     "output_type": "stream",
     "text": [
      "Training Folds: 100%|████████████████████████████████████████████████████████████████████| 5/5 [00:01<00:00,  3.07it/s]"
     ]
    },
    {
     "name": "stdout",
     "output_type": "stream",
     "text": [
      "Mean Train QWK --> 0.6397\n",
      "Mean Validation QWK ---> 0.3928\n",
      "----> || Optimized QWK SCORE :: \u001b[36m\u001b[1m 0.446\u001b[0m\n"
     ]
    },
    {
     "name": "stderr",
     "output_type": "stream",
     "text": [
      "\n"
     ]
    }
   ],
   "source": [
    "from sklearn.preprocessing import LabelEncoder\n",
    "\n",
    "# Function to preprocess data for LightGBM\n",
    "def preprocess_data(df):\n",
    "    # Identify non-numeric columns\n",
    "    non_numeric_cols = df.select_dtypes(include=['object']).columns\n",
    "    \n",
    "    # Apply label encoding to non-numeric columns\n",
    "    label_encoders = {}\n",
    "    for col in non_numeric_cols:\n",
    "        le = LabelEncoder()\n",
    "        df[col] = le.fit_transform(df[col].astype(str))\n",
    "        label_encoders[col] = le\n",
    "    \n",
    "    return df, label_encoders\n",
    "\n",
    "# Apply preprocessing to both train and test data\n",
    "train_preprocessed, train_encoders = preprocess_data(train)\n",
    "test_preprocessed, _ = preprocess_data(test)\n",
    "\n",
    "\n",
    "Light = lgb.LGBMRegressor(**best_params_lgbm, random_state=SEED, verbose=-1)\n",
    "Submission_LGBM, k_lgbm = TrainML(Light, test_preprocessed)"
   ]
  },
  {
   "cell_type": "code",
   "execution_count": null,
   "id": "434fa61f-0d78-413a-8ce3-bf96d74560bf",
   "metadata": {},
   "outputs": [],
   "source": []
  },
  {
   "cell_type": "code",
   "execution_count": null,
   "id": "b7611b5c-775a-4f92-83ad-2f2c931b5717",
   "metadata": {},
   "outputs": [],
   "source": []
  },
  {
   "cell_type": "code",
   "execution_count": null,
   "id": "7765009f-0ddd-4d47-b8b2-f203f7a25143",
   "metadata": {},
   "outputs": [],
   "source": []
  }
 ],
 "metadata": {
  "kernelspec": {
   "display_name": "Python 3 (ipykernel)",
   "language": "python",
   "name": "python3"
  },
  "language_info": {
   "codemirror_mode": {
    "name": "ipython",
    "version": 3
   },
   "file_extension": ".py",
   "mimetype": "text/x-python",
   "name": "python",
   "nbconvert_exporter": "python",
   "pygments_lexer": "ipython3",
   "version": "3.12.7"
  }
 },
 "nbformat": 4,
 "nbformat_minor": 5
}
